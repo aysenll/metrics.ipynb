{
 "cells": [
  {
   "cell_type": "code",
   "execution_count": 1,
   "id": "75f2496b-644a-47e1-9bd2-921281469137",
   "metadata": {},
   "outputs": [],
   "source": [
    "import numpy as np"
   ]
  },
  {
   "cell_type": "code",
   "execution_count": 2,
   "id": "cc3e9bd6-7ac4-4900-9720-9e705e4bb2e4",
   "metadata": {},
   "outputs": [],
   "source": [
    "from sklearn.metrics import mean_squared_error,mean_absolute_error\n",
    "#mape için sklearn lib'de function yok"
   ]
  },
  {
   "cell_type": "code",
   "execution_count": 3,
   "id": "82373a09-d29c-4a2a-9e59-2b569333f751",
   "metadata": {},
   "outputs": [],
   "source": [
    "#real data\n",
    "y_true=np.array([100,150,200,250,300])"
   ]
  },
  {
   "cell_type": "code",
   "execution_count": 5,
   "id": "53137e41-b951-4544-bca4-0e4b49b89798",
   "metadata": {},
   "outputs": [],
   "source": [
    "#model predicts\n",
    "y_pred=np.array([110,140,210,240,320])"
   ]
  },
  {
   "cell_type": "code",
   "execution_count": 7,
   "id": "aca328e1-89a3-4785-a86b-953edc37fba8",
   "metadata": {},
   "outputs": [
    {
     "name": "stdout",
     "output_type": "stream",
     "text": [
      "\n",
      "MSE (ortalama kare hata):160.00\n"
     ]
    }
   ],
   "source": [
    "#mean squared error(MSE)\n",
    "mse=mean_squared_error(y_true,y_pred)\n",
    "print(f\"\\nMSE (ortalama kare hata):{mse:.2f}\")\n"
   ]
  },
  {
   "cell_type": "code",
   "execution_count": 11,
   "id": "2a76b0a6-3382-4c27-af6c-5aa70e5bf961",
   "metadata": {},
   "outputs": [
    {
     "name": "stdout",
     "output_type": "stream",
     "text": [
      "\n",
      "RMSE(ortalama kare hata karekökü):12.65\n"
     ]
    }
   ],
   "source": [
    "#root mean squared error(RMSE) \n",
    "rmse=np.sqrt(mean_squared_error(y_true,y_pred))\n",
    "print(f\"\\nRMSE(ortalama kare hata karekökü):{rmse:.2f}\")"
   ]
  },
  {
   "cell_type": "code",
   "execution_count": 12,
   "id": "aa23e99f-bffd-4315-a520-a91805dff11c",
   "metadata": {},
   "outputs": [
    {
     "name": "stdout",
     "output_type": "stream",
     "text": [
      "\n",
      "MAE(ortalama mutlak hata):12.00\n"
     ]
    }
   ],
   "source": [
    "#mean absolute error(MAE)\n",
    "mae=mean_absolute_error(y_true,y_pred)\n",
    "print(f\"\\nMAE(ortalama mutlak hata):{mae:.2f}\")"
   ]
  },
  {
   "cell_type": "code",
   "execution_count": 13,
   "id": "c21c52e7-0c68-476e-9382-d15ac4274312",
   "metadata": {},
   "outputs": [
    {
     "name": "stdout",
     "output_type": "stream",
     "text": [
      "\n",
      "MAPE(ortalama mutlak yüzde hata):%6.47\n"
     ]
    }
   ],
   "source": [
    "#mean absolute percent error(MAPE)\n",
    "#((gerçek-tahmin)/gerçek)*100\n",
    "mape=np.mean(np.abs((y_true-y_pred)/y_true))*100\n",
    "print(f\"\\nMAPE(ortalama mutlak yüzde hata):%{mape:.2f}\")"
   ]
  },
  {
   "cell_type": "code",
   "execution_count": null,
   "id": "9fcbef0e-a34b-4996-bba7-25cfc46b578d",
   "metadata": {},
   "outputs": [],
   "source": []
  }
 ],
 "metadata": {
  "kernelspec": {
   "display_name": "Python [conda env:base] *",
   "language": "python",
   "name": "conda-base-py"
  },
  "language_info": {
   "codemirror_mode": {
    "name": "ipython",
    "version": 3
   },
   "file_extension": ".py",
   "mimetype": "text/x-python",
   "name": "python",
   "nbconvert_exporter": "python",
   "pygments_lexer": "ipython3",
   "version": "3.12.7"
  }
 },
 "nbformat": 4,
 "nbformat_minor": 5
}
